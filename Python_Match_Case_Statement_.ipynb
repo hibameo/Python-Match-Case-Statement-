{
  "nbformat": 4,
  "nbformat_minor": 0,
  "metadata": {
    "colab": {
      "provenance": [],
      "authorship_tag": "ABX9TyM1a8kV9Fg3spe+r+WL0Bus",
      "include_colab_link": true
    },
    "kernelspec": {
      "name": "python3",
      "display_name": "Python 3"
    },
    "language_info": {
      "name": "python"
    }
  },
  "cells": [
    {
      "cell_type": "markdown",
      "metadata": {
        "id": "view-in-github",
        "colab_type": "text"
      },
      "source": [
        "<a href=\"https://colab.research.google.com/github/hibameo/Python-Match-Case-Statement-/blob/main/Python_Match_Case_Statement_.ipynb\" target=\"_parent\"><img src=\"https://colab.research.google.com/assets/colab-badge.svg\" alt=\"Open In Colab\"/></a>"
      ]
    },
    {
      "cell_type": "markdown",
      "source": [
        "# Python Match-Case Statement :\n",
        "\n",
        "Python 3.10 mein introduce kiya gaya match-case statement ek naya feature hai jo structural pattern matching ko implement karta hai. Yeh statement traditional if-elif-else chains ka ek clean aur readable alternative hai."
      ],
      "metadata": {
        "id": "MAO_NnuGSvW-"
      }
    },
    {
      "cell_type": "markdown",
      "source": [
        "Basic Syntax"
      ],
      "metadata": {
        "id": "dFUI7Q42S527"
      }
    },
    {
      "cell_type": "markdown",
      "source": [
        "Match-case ka basic syntax kuch is tarah hota hai:"
      ],
      "metadata": {
        "id": "LL7qL_USTFg0"
      }
    },
    {
      "cell_type": "markdown",
      "source": [
        "match variable:\n",
        "    case pattern1:\n",
        "        # Jab variable pattern1 se match kare toh yeh code chalega\n",
        "    case pattern2:\n",
        "        # Jab variable pattern2 se match kare toh yeh code chalega\n",
        "    case _:\n",
        "        # Default case (agar koi pattern match na kare)"
      ],
      "metadata": {
        "id": "NehHnf6xTU-n"
      }
    },
    {
      "cell_type": "markdown",
      "source": [
        "variable: Yeh woh value hai jo match ki ja rahi hai.\n",
        "\n",
        "pattern1, pattern2: Yeh different values hain jinse variable compare hoga.\n",
        "\n",
        "Yeh wildcard hai jo kisi bhi unmatched value ko handle karega (default case)."
      ],
      "metadata": {
        "id": "L6Ox_WAjTaF-"
      }
    },
    {
      "cell_type": "markdown",
      "source": [
        "\n",
        "\n",
        "Example 1: Simple Match-Case"
      ],
      "metadata": {
        "id": "YuQUk5kiTdBg"
      }
    },
    {
      "cell_type": "code",
      "source": [
        "day = \"Monday\"\n",
        "\n",
        "match day:\n",
        "    case \"Monday\":\n",
        "        print(\"It's the start of the week!\")\n",
        "    case \"Friday\":\n",
        "        print(\"Weekend is near!\")\n",
        "    case \"Sunday\":\n",
        "        print(\"It's a holiday!\")\n",
        "    case _:\n",
        "        print(\"A regular day.\")"
      ],
      "metadata": {
        "colab": {
          "base_uri": "https://localhost:8080/"
        },
        "id": "_30Wtcw8TiXq",
        "outputId": "38465db9-d894-4dbc-a892-08eaec597466"
      },
      "execution_count": 2,
      "outputs": [
        {
          "output_type": "stream",
          "name": "stdout",
          "text": [
            "It's the start of the week!\n"
          ]
        }
      ]
    },
    {
      "cell_type": "markdown",
      "source": [
        "📌 Output:"
      ],
      "metadata": {
        "id": "ZJRLgAllTvtI"
      }
    },
    {
      "cell_type": "markdown",
      "source": [
        "It's the start of the week!"
      ],
      "metadata": {
        "id": "YeKhPuNrTznN"
      }
    },
    {
      "cell_type": "markdown",
      "source": [
        "Yahan day ka value \"Monday\" hai, jo pehle case se match karta hai, is wajah se pehla block execute hoga."
      ],
      "metadata": {
        "id": "g7coWHgVT6MO"
      }
    },
    {
      "cell_type": "markdown",
      "source": [
        "Example 2: Matching Numbers"
      ],
      "metadata": {
        "id": "Oaa0RgX7T-Kq"
      }
    },
    {
      "cell_type": "code",
      "source": [
        "num = 3\n",
        "\n",
        "match num:\n",
        "    case 1:\n",
        "        print(\"One\")\n",
        "    case 2:\n",
        "        print(\"Two\")\n",
        "    case 3:\n",
        "        print(\"Three\")\n",
        "    case _:\n",
        "        print(\"Number not in range\")"
      ],
      "metadata": {
        "colab": {
          "base_uri": "https://localhost:8080/"
        },
        "id": "xwEGEzvjT_Ju",
        "outputId": "081b36b4-021d-4aa1-8e45-068d74a51c96"
      },
      "execution_count": 3,
      "outputs": [
        {
          "output_type": "stream",
          "name": "stdout",
          "text": [
            "Three\n"
          ]
        }
      ]
    },
    {
      "cell_type": "markdown",
      "source": [
        "📌 Output:"
      ],
      "metadata": {
        "id": "7KhcVYJJUD7C"
      }
    },
    {
      "cell_type": "markdown",
      "source": [
        "Three"
      ],
      "metadata": {
        "id": "Eeu3PZ3xUIdi"
      }
    },
    {
      "cell_type": "markdown",
      "source": [
        "\n",
        "\n",
        "Three\n",
        "\n",
        "Yahan num ka value 3 hai, jo case 3 se match hota hai, is wajah se \"Three\" print hota hai."
      ],
      "metadata": {
        "id": "J1D69ZcjULQS"
      }
    },
    {
      "cell_type": "markdown",
      "source": [
        "Example 3: Multiple Patterns in One Case\n",
        "\n",
        "Agar ek se zyada values ko ek case mein handle karna ho, toh pipe (|) ka use kiya jata hai:"
      ],
      "metadata": {
        "id": "RONYAQyQUQNB"
      }
    },
    {
      "cell_type": "code",
      "source": [
        "fruit = \"Mango\"\n",
        "\n",
        "match fruit:\n",
        "    case \"Apple\" | \"Banana\" | \"Mango\":\n",
        "        print(\"It's a fruit.\")\n",
        "    case \"Carrot\" | \"Potato\":\n",
        "        print(\"It's a vegetable.\")\n",
        "    case _:\n",
        "        print(\"Unknown item.\")"
      ],
      "metadata": {
        "colab": {
          "base_uri": "https://localhost:8080/"
        },
        "id": "9uAnsCF6UZ1B",
        "outputId": "4660b1a7-0d2e-4ab6-e6ba-9ec9fa253b45"
      },
      "execution_count": 4,
      "outputs": [
        {
          "output_type": "stream",
          "name": "stdout",
          "text": [
            "It's a fruit.\n"
          ]
        }
      ]
    },
    {
      "cell_type": "markdown",
      "source": [
        "📌 Output:"
      ],
      "metadata": {
        "id": "iDH6zc0OUeG2"
      }
    },
    {
      "cell_type": "markdown",
      "source": [
        "It's a fruit."
      ],
      "metadata": {
        "id": "vmPLimAXUhZO"
      }
    },
    {
      "cell_type": "markdown",
      "source": [
        "\n",
        "\n",
        "It's a fruit.\n",
        "\n",
        "Yahan fruit ka value \"Mango\" hai, jo pehle case mein likhe hue fruits se match hota hai."
      ],
      "metadata": {
        "id": "W6uTXMm6UoYt"
      }
    },
    {
      "cell_type": "markdown",
      "source": [
        "Example 4: Using Variables in Patterns\n",
        "\n",
        "Agar hume kisi tuple ya list ke andar values assign karni ho, toh match-case yeh bhi handle kar sakta hai:"
      ],
      "metadata": {
        "id": "oR2lgfP0UtHL"
      }
    },
    {
      "cell_type": "code",
      "source": [
        "person = (\"Ali\", 25)\n",
        "\n",
        "match person:\n",
        "    case (name, age):\n",
        "        print(f\"Name: {name}, Age: {age}\")\n"
      ],
      "metadata": {
        "colab": {
          "base_uri": "https://localhost:8080/"
        },
        "id": "VQexZLCGUz7W",
        "outputId": "dfc6b4d3-23d4-40fb-c87c-9014e7c77ab0"
      },
      "execution_count": 5,
      "outputs": [
        {
          "output_type": "stream",
          "name": "stdout",
          "text": [
            "Name: Ali, Age: 25\n"
          ]
        }
      ]
    },
    {
      "cell_type": "markdown",
      "source": [
        "📌 Output:"
      ],
      "metadata": {
        "id": "B26-fw_3U5aN"
      }
    },
    {
      "cell_type": "markdown",
      "source": [
        "Name: Ali, Age: 25"
      ],
      "metadata": {
        "id": "Y9aMLXF2U83O"
      }
    },
    {
      "cell_type": "markdown",
      "source": [
        "Yahan person tuple ke structure ko match kar raha hai aur name aur age ko values assign kar raha hai."
      ],
      "metadata": {
        "id": "KG8hMNzMU_rV"
      }
    },
    {
      "cell_type": "markdown",
      "source": [
        "Conclusion\n",
        "\n",
        "✅ match-case statement Python mein if-elif-else ka ek structured aur readable alternative hai.\n",
        "✅ Yeh multiple conditions ko efficiently handle karne ke liye use hota hai.\n",
        "✅ Yeh strings, numbers, lists, tuples aur complex data structures ko match kar sakta hai.\n",
        "✅ Wildcard (_) ka use default case handle karne ke liye hota hai.\n",
        "\n",
        "Agar aap match-case ke aur advanced use cases seekhna chahte hain, toh yeh article check karein:"
      ],
      "metadata": {
        "id": "f_h7eBVnVFdQ"
      }
    },
    {
      "cell_type": "markdown",
      "source": [
        "🔗 Match-Case Statement Guide:\n",
        "https://github.com/panaversity/learn-modern-ai-python/blob/main/00_python_colab/Appendix/The%20%60match-case%60%20Statement.md"
      ],
      "metadata": {
        "id": "N2Jd81dbVJ-U"
      }
    }
  ]
}